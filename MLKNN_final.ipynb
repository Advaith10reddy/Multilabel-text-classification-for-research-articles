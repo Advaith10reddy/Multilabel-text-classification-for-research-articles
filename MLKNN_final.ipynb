{
 "cells": [
  {
   "cell_type": "code",
   "execution_count": 16,
   "id": "e77aa444-3fe7-4051-adbf-7663ca528970",
   "metadata": {},
   "outputs": [
    {
     "name": "stdout",
     "output_type": "stream",
     "text": [
      "Accuracy: 0.6164481525625745\n",
      "Hamming Loss: 0.09368295589988081\n"
     ]
    }
   ],
   "source": [
    "import pandas as pd\n",
    "import numpy as np\n",
    "from sklearn.model_selection import train_test_split\n",
    "from sklearn.feature_extraction.text import TfidfVectorizer\n",
    "from sklearn.metrics import accuracy_score, hamming_loss\n",
    "from nltk.corpus import stopwords\n",
    "from nltk.stem import SnowballStemmer\n",
    "from skmultilearn.adapt import MLkNN\n",
    "\n",
    "\n",
    "train_data = pd.read_csv('train1.csv')\n",
    "test_data = pd.read_csv('test.csv')\n",
    "\n",
    "# Combine TITLE and ABSTRACT into a single 'Text' column\n",
    "train_data['Text'] = train_data['TITLE'] + ' ' + train_data['ABSTRACT']\n",
    "\n",
    "# Remove stopwords\n",
    "stop_words = set(stopwords.words('english'))\n",
    "\n",
    "# Function to remove stopwords\n",
    "def remove_stopwords(text):\n",
    "    no_stopword_text = [w for w in text.split() if not w in stop_words]\n",
    "    return ' '.join(no_stopword_text)\n",
    "\n",
    "train_data['Text'] = train_data['Text'].apply(lambda x: remove_stopwords(x))\n",
    "\n",
    "# Stemming\n",
    "stemmer = SnowballStemmer(\"english\")\n",
    "def stemming(sentence):\n",
    "    stem_sentence = \"\"\n",
    "    for word in sentence.split():\n",
    "        stem = stemmer.stem(word)\n",
    "        stem_sentence += stem\n",
    "        stem_sentence += \" \"\n",
    "    stem_sentence = stem_sentence.strip()\n",
    "    return stem_sentence\n",
    "\n",
    "train_data['Text'] = train_data['Text'].apply(stemming)\n",
    "\n",
    "# Define categories\n",
    "categories = ['Computer Science', 'Physics', 'Mathematics', 'Statistics', 'Quantitative Biology', 'Quantitative Finance']\n",
    "\n",
    "# Split the data into training and testing sets\n",
    "x_train, x_test, y_train, y_test = train_test_split(train_data['Text'], train_data[categories], test_size=0.2, random_state=40, shuffle=True)\n",
    "\n",
    "# TF-IDF Transformation\n",
    "tfidf_vectorizer = TfidfVectorizer(max_features=5000)\n",
    "x_train_tfidf = tfidf_vectorizer.fit_transform(x_train)\n",
    "x_test_tfidf = tfidf_vectorizer.transform(x_test)\n",
    "\n",
    "# Convert labels to NumPy array\n",
    "y_train_np = np.array(y_train)\n",
    "y_test_np = np.array(y_test)\n",
    "\n",
    "# Multilabel Text Classification using MLkNN\n",
    "# Initialize the MLkNN classifier\n",
    "classifier = MLkNN(k=10)  # You can adjust the value of k as needed\n",
    "\n",
    "# Fit the classifier on the TF-IDF transformed training data\n",
    "classifier.fit(x_train_tfidf, y_train_np)\n",
    "\n",
    "# Predict the labels for the test data\n",
    "predictions = classifier.predict(x_test_tfidf)\n",
    "\n",
    "# Evaluate the model\n",
    "accuracy = accuracy_score(y_test_np, predictions)\n",
    "hamming_loss_value = hamming_loss(y_test_np, predictions)\n",
    "\n",
    "print(f\"Accuracy: {accuracy}\")\n",
    "print(f\"Hamming Loss: {hamming_loss_value}\")\n"
   ]
  },
  {
   "cell_type": "code",
   "execution_count": null,
   "id": "0b729375-8ab2-42ce-b94a-f0f0d7511a63",
   "metadata": {},
   "outputs": [],
   "source": []
  },
  {
   "cell_type": "code",
   "execution_count": null,
   "id": "69f81838-4993-4362-b300-2272ccd3c9e8",
   "metadata": {},
   "outputs": [],
   "source": []
  }
 ],
 "metadata": {
  "kernelspec": {
   "display_name": "Python 3 (ipykernel)",
   "language": "python",
   "name": "python3"
  },
  "language_info": {
   "codemirror_mode": {
    "name": "ipython",
    "version": 3
   },
   "file_extension": ".py",
   "mimetype": "text/x-python",
   "name": "python",
   "nbconvert_exporter": "python",
   "pygments_lexer": "ipython3",
   "version": "3.10.6"
  }
 },
 "nbformat": 4,
 "nbformat_minor": 5
}
